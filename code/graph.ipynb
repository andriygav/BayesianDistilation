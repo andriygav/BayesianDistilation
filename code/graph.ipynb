{
 "cells": [
  {
   "cell_type": "code",
   "execution_count": null,
   "metadata": {},
   "outputs": [],
   "source": [
    "import pandas as pd\n",
    "\n",
    "import numpy as np\n",
    "\n",
    "import matplotlib.pyplot as plt\n",
    "from matplotlib import gridspec\n",
    "\n",
    "import locale\n",
    "\n",
    "import scipy\n",
    "import scipy.integrate\n",
    "\n",
    "import os\n",
    "import re"
   ]
  },
  {
   "cell_type": "code",
   "execution_count": null,
   "metadata": {},
   "outputs": [],
   "source": [
    "folder_result = 'result'"
   ]
  },
  {
   "cell_type": "code",
   "execution_count": null,
   "metadata": {},
   "outputs": [],
   "source": [
    "plt.rcParams[\"font.family\"] = 'DejaVu Sans'\n",
    "\n",
    "plt.rcParams['text.usetex'] = True\n",
    "plt.rcParams['text.latex.unicode'] = True\n",
    "\n",
    "plt.rcParams['text.latex.preamble'] = [r'\\usepackage[utf8x]{inputenc}', \n",
    "                                       r'\\usepackage[english,russian]{babel}', \n",
    "                                       r'\\usepackage{amsmath}']"
   ]
  },
  {
   "cell_type": "code",
   "execution_count": null,
   "metadata": {},
   "outputs": [],
   "source": [
    "plt.rcParams['lines.linewidth'] = 3\n",
    "plt.rcParams['lines.markersize'] = 6\n",
    "plt.rcParams['xtick.labelsize'] = 36\n",
    "plt.rcParams['ytick.labelsize'] = 36\n",
    "plt.rcParams['legend.fontsize'] = 24\n",
    "plt.rcParams['axes.titlesize']=36\n",
    "plt.rcParams['axes.labelsize']=36\n",
    "plt.rcParams['figure.figsize'] = (10.0, 6.0)\n",
    "plt.rcParams['font.size'] = 40"
   ]
  },
  {
   "cell_type": "code",
   "execution_count": null,
   "metadata": {},
   "outputs": [],
   "source": [
    "DATA_PATH = 'csv/'\n",
    "runs = os.listdir(DATA_PATH)"
   ]
  },
  {
   "cell_type": "code",
   "execution_count": null,
   "metadata": {},
   "outputs": [],
   "source": [
    "colors = {'distil-student': 'blue', \n",
    "          'student': 'red', \n",
    "          'distil-student-all': 'green'}"
   ]
  },
  {
   "cell_type": "markdown",
   "metadata": {},
   "source": [
    "# Syntethic"
   ]
  },
  {
   "cell_type": "code",
   "execution_count": null,
   "metadata": {},
   "outputs": [],
   "source": [
    "steps = dict()\n",
    "values = dict()\n",
    "\n",
    "plots = dict()\n",
    "for run in runs:\n",
    "    if re.search(r'run-experiment', run) and \\\n",
    "       re.search(r'TEST_likelihood', run) and \\\n",
    "       re.search(r'3W', run) and \\\n",
    "       re.search(r'student', run):\n",
    "        data = pd.read_csv(os.path.join(DATA_PATH, run))\n",
    "        step = data['Step'].values\n",
    "        value = data['Value'].values\n",
    "        \n",
    "        steps[run] = step\n",
    "        values[run] = value\n",
    "        \n",
    "        label = '-'.join(run.split('-')[1].split('_')[2:])\n",
    "        plots[label] = {'step': step, 'value': value, 'color': colors[label], 'label': label}\n",
    "\n",
    "for label in ['student', 'distil-student', 'distil-student-all']:\n",
    "    plt.plot(plots[label]['step'], \n",
    "             plots[label]['value'], \n",
    "             color=plots[label]['color'], \n",
    "             label=plots[label]['label'])\n",
    "\n",
    "locs, labels = plt.yticks()\n",
    "plt.yticks(locs, map(lambda x: plt.Text(0, 0, '$'+str(round(x, 2)).replace('.', '{,}')+'$'), locs))\n",
    "        \n",
    "plt.xlabel('Итерации')\n",
    "plt.ylabel('$p(\\mathbf{y}|\\mathbf{X}, \\mathbf{w})$')\n",
    "\n",
    "plt.legend(loc='best')\n",
    "plt.grid()\n",
    "\n",
    "plt.savefig('./' + folder_result+ '/synthetic_likelihood_3_layers.eps', bbox_inches='tight')\n",
    "plt.show()"
   ]
  },
  {
   "cell_type": "code",
   "execution_count": null,
   "metadata": {},
   "outputs": [],
   "source": [
    "student = 'run-experiment_3W_student-tag-TEST_likelihood.csv'\n",
    "ds_all_student = 'run-experiment_3W_distil_student_all-tag-TEST_likelihood.csv'\n",
    "ds_student = 'run-experiment_3W_distil_student-tag-TEST_likelihood.csv'\n",
    "\n",
    "(scipy.integrate.trapz(values[ds_all_student], steps[ds_all_student]) - scipy.integrate.trapz(values[student],steps[student]), \n",
    " scipy.integrate.trapz(values[ds_student],steps[ds_student]) - scipy.integrate.trapz(values[student],steps[student]))\n"
   ]
  },
  {
   "cell_type": "code",
   "execution_count": null,
   "metadata": {},
   "outputs": [],
   "source": [
    "for run in runs:\n",
    "    if re.search(r'run-experiment', run) and \\\n",
    "       re.search(r'VARIATION_D_KL', run) and \\\n",
    "       re.search(r'3W', run) and \\\n",
    "       re.search(r'student', run):\n",
    "        data = pd.read_csv(os.path.join(DATA_PATH, run))\n",
    "        step = data['Step'].values\n",
    "        value = data['Value'].values\n",
    "\n",
    "        label = '-'.join(run.split('-')[1].split('_')[2:])\n",
    "        plots[label] = {'step': step, 'value': value, 'color': colors[label], 'label': label}\n",
    "\n",
    "for label in ['student', 'distil-student', 'distil-student-all']:\n",
    "    plt.plot(plots[label]['step'], \n",
    "             plots[label]['value'], \n",
    "             color=plots[label]['color'], \n",
    "             label=plots[label]['label'])\n",
    "        \n",
    "locs, labels = plt.yticks()\n",
    "plt.yticks(locs, map(lambda x: plt.Text(0, 0, '$'+str(round(x, 2)).replace('.', '{,}')+'$'), locs))\n",
    "        \n",
    "plt.xlabel('Итерации')\n",
    "plt.ylabel('$\\mathrm{D}_{\\mathrm{KL}}(q||p)$')\n",
    "plt.legend(loc='best')\n",
    "plt.grid()\n",
    "\n",
    "plt.savefig('./' + folder_result+ '/synthetic_D_KL_3_layers.eps', bbox_inches='tight')\n",
    "plt.show()"
   ]
  },
  {
   "cell_type": "code",
   "execution_count": null,
   "metadata": {},
   "outputs": [],
   "source": [
    "steps = dict()\n",
    "values = dict()\n",
    "\n",
    "for run in runs:\n",
    "    if re.search(r'run-experiment', run) and \\\n",
    "       re.search(r'TEST_likelihood', run) and \\\n",
    "       re.search(r'2W', run) and \\\n",
    "       re.search(r'student', run):\n",
    "        data = pd.read_csv(os.path.join(DATA_PATH, run))\n",
    "        step = data['Step'].values\n",
    "        value = data['Value'].values\n",
    "        \n",
    "        steps[run] = step\n",
    "        values[run] = value\n",
    "        \n",
    "\n",
    "        label = '-'.join(run.split('-')[1].split('_')[2:])\n",
    "        plots[label] = {'step': step, 'value': value, 'color': colors[label], 'label': label}\n",
    "\n",
    "for label in ['student', 'distil-student', 'distil-student-all']:\n",
    "    plt.plot(plots[label]['step'], \n",
    "             plots[label]['value'], \n",
    "             color=plots[label]['color'], \n",
    "             label=plots[label]['label'])\n",
    "\n",
    "locs, labels = plt.yticks()\n",
    "plt.yticks(locs, map(lambda x: plt.Text(0, 0, '$'+str(round(x, 2)).replace('.', '{,}')+'$'), locs))\n",
    "        \n",
    "plt.xlabel('Итерации')\n",
    "plt.ylabel('$p(\\mathbf{y}|\\mathbf{X}, \\mathbf{u})$')\n",
    "plt.legend(loc='best')\n",
    "plt.grid()\n",
    "\n",
    "plt.savefig('./' + folder_result+ '/synthetic_likelihood_2_layers.eps', bbox_inches='tight')\n",
    "plt.show()"
   ]
  },
  {
   "cell_type": "code",
   "execution_count": null,
   "metadata": {},
   "outputs": [],
   "source": [
    "student = 'run-experiment_2W_student-tag-TEST_likelihood.csv'\n",
    "ds_all_student = 'run-experiment_2W_distil_student_all-tag-TEST_likelihood.csv'\n",
    "ds_student = 'run-experiment_2W_distil_student-tag-TEST_likelihood.csv'\n",
    "\n",
    "(scipy.integrate.trapz(values[ds_all_student], steps[ds_all_student]) - scipy.integrate.trapz(values[student],steps[student]), \n",
    " scipy.integrate.trapz(values[ds_student],steps[ds_student]) - scipy.integrate.trapz(values[student],steps[student]))"
   ]
  },
  {
   "cell_type": "code",
   "execution_count": null,
   "metadata": {},
   "outputs": [],
   "source": [
    "for run in runs:\n",
    "    if re.search(r'run-experiment', run) and \\\n",
    "       re.search(r'VARIATION_D_KL', run) and \\\n",
    "       re.search(r'2W', run) and \\\n",
    "       re.search(r'student', run):\n",
    "        data = pd.read_csv(os.path.join(DATA_PATH, run))\n",
    "        step = data['Step'].values\n",
    "        value = data['Value'].values\n",
    "\n",
    "        label = '-'.join(run.split('-')[1].split('_')[2:])\n",
    "        plots[label] = {'step': step, 'value': value, 'color': colors[label], 'label': label}\n",
    "\n",
    "for label in ['student', 'distil-student', 'distil-student-all']:\n",
    "    plt.plot(plots[label]['step'], \n",
    "             plots[label]['value'], \n",
    "             color=plots[label]['color'], \n",
    "             label=plots[label]['label'])\n",
    "\n",
    "locs, labels = plt.yticks()\n",
    "plt.yticks(locs, map(lambda x: plt.Text(0, 0, '$'+str(round(x, 2)).replace('.', '{,}')+'$'), locs))\n",
    "\n",
    "plt.xlabel('Итерации')\n",
    "plt.ylabel('$\\mathrm{D}_{\\mathrm{KL}}(q||p)$')\n",
    "plt.legend(loc='best')\n",
    "plt.grid()\n",
    "\n",
    "plt.savefig('./' + folder_result+ '/synthetic_D_KL_2_layers.eps', bbox_inches='tight')\n",
    "plt.show()"
   ]
  },
  {
   "cell_type": "markdown",
   "metadata": {},
   "source": [
    "# Fashion Mnist"
   ]
  },
  {
   "cell_type": "code",
   "execution_count": null,
   "metadata": {},
   "outputs": [],
   "source": [
    "steps = dict()\n",
    "values = dict()\n",
    "\n",
    "for run in runs:\n",
    "    if re.search(r'run-fashionmnist', run) and \\\n",
    "       re.search(r'TEST_likelihood', run) and \\\n",
    "       re.search(r'2W', run) and \\\n",
    "       re.search(r'student', run):\n",
    "        data = pd.read_csv(os.path.join(DATA_PATH, run))\n",
    "        step = data['Step'].values\n",
    "        value = data['Value'].values\n",
    "        \n",
    "        steps[run] = step\n",
    "        values[run] = value\n",
    "\n",
    "        label = '-'.join(run.split('-')[1].split('_')[2:])\n",
    "        plots[label] = {'step': step, 'value': value, 'color': colors[label], 'label': label}\n",
    "\n",
    "for label in ['student', 'distil-student', 'distil-student-all']:\n",
    "    plt.plot(plots[label]['step'], \n",
    "             plots[label]['value'], \n",
    "             color=plots[label]['color'], \n",
    "             label=plots[label]['label'])\n",
    "\n",
    "locs, labels = plt.yticks()\n",
    "plt.yticks(locs, map(lambda x: plt.Text(0, 0, '$'+str(round(x, 2)).replace('.', '{,}')+'$'), locs))\n",
    "        \n",
    "plt.xlabel('Итерации')\n",
    "plt.ylabel('$p(\\mathbf{y}|\\mathbf{X}, \\mathbf{u})$')\n",
    "plt.legend(loc='best')\n",
    "plt.grid()\n",
    "\n",
    "plt.savefig('./' + folder_result+ '/fashionmnist_likelihood_2_layers.eps', bbox_inches='tight')\n",
    "plt.show()"
   ]
  },
  {
   "cell_type": "code",
   "execution_count": null,
   "metadata": {},
   "outputs": [],
   "source": [
    "student = 'run-fashionmnist_2W_student-tag-TEST_likelihood.csv'\n",
    "ds_all_student = 'run-fashionmnist_2W_distil_student_all-tag-TEST_likelihood.csv'\n",
    "ds_student = 'run-fashionmnist_2W_distil_student-tag-TEST_likelihood.csv'\n",
    "\n",
    "(scipy.integrate.trapz(values[ds_all_student], steps[ds_all_student]) - scipy.integrate.trapz(values[student],steps[student]), \n",
    " scipy.integrate.trapz(values[ds_student],steps[ds_student]) - scipy.integrate.trapz(values[student],steps[student]))"
   ]
  },
  {
   "cell_type": "code",
   "execution_count": null,
   "metadata": {},
   "outputs": [],
   "source": [
    "for run in runs:\n",
    "    if re.search(r'run-fashionmnist', run) and \\\n",
    "       re.search(r'VARIATION_D_KL', run) and \\\n",
    "       re.search(r'2W', run) and \\\n",
    "       re.search(r'student', run):\n",
    "        data = pd.read_csv(os.path.join(DATA_PATH, run))\n",
    "        step = data['Step'].values\n",
    "        value = data['Value'].values\n",
    "\n",
    "        label = '-'.join(run.split('-')[1].split('_')[2:])\n",
    "        plots[label] = {'step': step, 'value': value, 'color': colors[label], 'label': label}\n",
    "\n",
    "for label in ['student', 'distil-student', 'distil-student-all']:\n",
    "    plt.plot(plots[label]['step'], \n",
    "             plots[label]['value'], \n",
    "             color=plots[label]['color'], \n",
    "             label=plots[label]['label'])\n",
    "\n",
    "locs, labels = plt.yticks()\n",
    "plt.yticks(locs, map(lambda x: plt.Text(0, 0, '$'+str(round(x, 2)).replace('.', '{,}')+'$'), locs))\n",
    "        \n",
    "plt.xlabel('Итерации')\n",
    "plt.ylabel('$\\mathrm{D}_{\\mathrm{KL}}(q||p)$')\n",
    "plt.legend(loc='best')\n",
    "plt.grid()\n",
    "\n",
    "plt.savefig('./' + folder_result+ '/fashionmnist_D_KL_2_layers.eps', bbox_inches='tight')\n",
    "plt.show()"
   ]
  }
 ],
 "metadata": {
  "kernelspec": {
   "display_name": "Python 3",
   "language": "python",
   "name": "python3"
  },
  "language_info": {
   "codemirror_mode": {
    "name": "ipython",
    "version": 3
   },
   "file_extension": ".py",
   "mimetype": "text/x-python",
   "name": "python",
   "nbconvert_exporter": "python",
   "pygments_lexer": "ipython3",
   "version": "3.7.3"
  }
 },
 "nbformat": 4,
 "nbformat_minor": 4
}
